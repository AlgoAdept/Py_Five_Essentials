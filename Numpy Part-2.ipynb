{
 "cells": [
  {
   "cell_type": "code",
   "execution_count": 2,
   "id": "0fdde9c0-43cf-4cee-a041-332d8a0922b7",
   "metadata": {},
   "outputs": [],
   "source": [
    "import numpy as np"
   ]
  },
  {
   "cell_type": "markdown",
   "id": "50799950-8e6a-41d3-b348-fa24b38de407",
   "metadata": {},
   "source": [
    "# Array Manipulation"
   ]
  },
  {
   "cell_type": "markdown",
   "id": "17934d08-80a0-450c-9fb4-9daf63b78e47",
   "metadata": {},
   "source": [
    "# Array Manipulation - Changing Shape "
   ]
  },
  {
   "cell_type": "code",
   "execution_count": 5,
   "id": "16ba8d2b-71f9-4139-89f5-03c99334a600",
   "metadata": {},
   "outputs": [
    {
     "name": "stdout",
     "output_type": "stream",
     "text": [
      "The Original Array :  [0 1 2 3 4 5 6 7 8]\n",
      "\n",
      "The Modified Array : \n",
      "[[0 1 2]\n",
      " [3 4 5]\n",
      " [6 7 8]]\n"
     ]
    }
   ],
   "source": [
    "a = np.arange(9)\n",
    "print(\"The Original Array : \",a)\n",
    "print()\n",
    "\n",
    "b = a.reshape(3,3)\n",
    "print(\"The Modified Array : \")\n",
    "print(b)"
   ]
  },
  {
   "cell_type": "code",
   "execution_count": 6,
   "id": "53f73a98-b07e-4f17-98c2-60fc00462f30",
   "metadata": {},
   "outputs": [
    {
     "name": "stdout",
     "output_type": "stream",
     "text": [
      "[0 1 2 3 4 5 6 7 8]\n"
     ]
    }
   ],
   "source": [
    "print(b.flatten())"
   ]
  },
  {
   "cell_type": "code",
   "execution_count": 7,
   "id": "9019a453-7e9d-4476-b2df-6540aefce922",
   "metadata": {},
   "outputs": [
    {
     "data": {
      "text/plain": [
       "array([[0, 1, 2],\n",
       "       [3, 4, 5],\n",
       "       [6, 7, 8]])"
      ]
     },
     "execution_count": 7,
     "metadata": {},
     "output_type": "execute_result"
    }
   ],
   "source": [
    "b.flatten(order='F')#You can also have another order called 'A'.\n",
    "b"
   ]
  },
  {
   "cell_type": "code",
   "execution_count": 8,
   "id": "9645d216-4a88-4591-b1f0-0e3ece8dac7f",
   "metadata": {},
   "outputs": [
    {
     "data": {
      "text/plain": [
       "array([[ 0,  1,  2],\n",
       "       [ 3,  4,  5],\n",
       "       [ 6,  7,  8],\n",
       "       [ 9, 10, 11],\n",
       "       [12, 13, 14],\n",
       "       [15, 16, 17],\n",
       "       [18, 19, 20]])"
      ]
     },
     "execution_count": 8,
     "metadata": {},
     "output_type": "execute_result"
    }
   ],
   "source": [
    "a = np.arange(21).reshape(7,3)\n",
    "a"
   ]
  },
  {
   "cell_type": "code",
   "execution_count": 9,
   "id": "d892d782-f50a-43d2-8220-39227311197e",
   "metadata": {},
   "outputs": [
    {
     "data": {
      "text/plain": [
       "array([[ 0,  3,  6,  9, 12, 15, 18],\n",
       "       [ 1,  4,  7, 10, 13, 16, 19],\n",
       "       [ 2,  5,  8, 11, 14, 17, 20]])"
      ]
     },
     "execution_count": 9,
     "metadata": {},
     "output_type": "execute_result"
    }
   ],
   "source": [
    "np.transpose(a)"
   ]
  },
  {
   "cell_type": "code",
   "execution_count": 10,
   "id": "2c73a20f-3d6e-4292-858a-367ae3634529",
   "metadata": {},
   "outputs": [
    {
     "data": {
      "text/plain": [
       "array([[0, 1, 2, 3],\n",
       "       [4, 5, 6, 7]])"
      ]
     },
     "execution_count": 10,
     "metadata": {},
     "output_type": "execute_result"
    }
   ],
   "source": [
    "b = np.arange(8).reshape(2,4)\n",
    "b"
   ]
  },
  {
   "cell_type": "code",
   "execution_count": 11,
   "id": "adb273d3-4ee2-4428-b95e-705b92b22da0",
   "metadata": {},
   "outputs": [
    {
     "data": {
      "text/plain": [
       "array([[[0, 1],\n",
       "        [2, 3]],\n",
       "\n",
       "       [[4, 5],\n",
       "        [6, 7]]])"
      ]
     },
     "execution_count": 11,
     "metadata": {},
     "output_type": "execute_result"
    }
   ],
   "source": [
    "c = b.reshape(2,2,2)\n",
    "c"
   ]
  },
  {
   "cell_type": "code",
   "execution_count": 12,
   "id": "6f207a25-7a96-4094-a849-8ce33eac15f5",
   "metadata": {},
   "outputs": [
    {
     "data": {
      "text/plain": [
       "array([[[0, 2],\n",
       "        [1, 3]],\n",
       "\n",
       "       [[4, 6],\n",
       "        [5, 7]]])"
      ]
     },
     "execution_count": 12,
     "metadata": {},
     "output_type": "execute_result"
    }
   ],
   "source": [
    "np.rollaxis(c,2,1)"
   ]
  },
  {
   "cell_type": "code",
   "execution_count": 13,
   "id": "1d90be91-d7df-4ad0-a03a-42678ab7a491",
   "metadata": {},
   "outputs": [
    {
     "data": {
      "text/plain": [
       "array([[[0, 2],\n",
       "        [1, 3]],\n",
       "\n",
       "       [[4, 6],\n",
       "        [5, 7]]])"
      ]
     },
     "execution_count": 13,
     "metadata": {},
     "output_type": "execute_result"
    }
   ],
   "source": [
    "np.swapaxes(c,2,1)"
   ]
  },
  {
   "cell_type": "code",
   "execution_count": null,
   "id": "11f38638-8677-4a10-99b7-c02b69b67054",
   "metadata": {},
   "outputs": [],
   "source": []
  },
  {
   "cell_type": "markdown",
   "id": "b43922f0-9776-4cd0-874e-237ac1e27c10",
   "metadata": {},
   "source": [
    "# Numpy Arithmetic Operations"
   ]
  },
  {
   "cell_type": "code",
   "execution_count": 15,
   "id": "911917e1-6910-43ec-9000-7b53f93e7b91",
   "metadata": {},
   "outputs": [
    {
     "data": {
      "text/plain": [
       "array([[0, 1, 2],\n",
       "       [3, 4, 5],\n",
       "       [6, 7, 8]])"
      ]
     },
     "execution_count": 15,
     "metadata": {},
     "output_type": "execute_result"
    }
   ],
   "source": [
    "a = np.arange(9).reshape(3,3)\n",
    "a"
   ]
  },
  {
   "cell_type": "code",
   "execution_count": 17,
   "id": "d472974e-9968-4ee9-8465-d8f5e878539a",
   "metadata": {},
   "outputs": [
    {
     "data": {
      "text/plain": [
       "array([10, 10, 10])"
      ]
     },
     "execution_count": 17,
     "metadata": {},
     "output_type": "execute_result"
    }
   ],
   "source": [
    "b = np.array([10,10,10])\n",
    "b"
   ]
  },
  {
   "cell_type": "code",
   "execution_count": 18,
   "id": "c10ba921-fb38-48df-9f8d-32b94b296be2",
   "metadata": {},
   "outputs": [
    {
     "data": {
      "text/plain": [
       "array([[10, 11, 12],\n",
       "       [13, 14, 15],\n",
       "       [16, 17, 18]])"
      ]
     },
     "execution_count": 18,
     "metadata": {},
     "output_type": "execute_result"
    }
   ],
   "source": [
    "np.add(a,b)"
   ]
  },
  {
   "cell_type": "code",
   "execution_count": 19,
   "id": "a92a6339-4eed-496b-86bd-6f826ca5ae71",
   "metadata": {},
   "outputs": [
    {
     "data": {
      "text/plain": [
       "array([[-10,  -9,  -8],\n",
       "       [ -7,  -6,  -5],\n",
       "       [ -4,  -3,  -2]])"
      ]
     },
     "execution_count": 19,
     "metadata": {},
     "output_type": "execute_result"
    }
   ],
   "source": [
    "np.subtract(a,b)"
   ]
  },
  {
   "cell_type": "code",
   "execution_count": 20,
   "id": "15bca3f7-ad7a-4551-b6b2-749804713c0e",
   "metadata": {},
   "outputs": [
    {
     "data": {
      "text/plain": [
       "array([[ 0, 10, 20],\n",
       "       [30, 40, 50],\n",
       "       [60, 70, 80]])"
      ]
     },
     "execution_count": 20,
     "metadata": {},
     "output_type": "execute_result"
    }
   ],
   "source": [
    "np.multiply(a,b)"
   ]
  },
  {
   "cell_type": "markdown",
   "id": "0d24d7ac-3d49-4c3e-b33f-1a9213b9e40e",
   "metadata": {},
   "source": [
    "# Slicing Arrays"
   ]
  },
  {
   "cell_type": "code",
   "execution_count": 3,
   "id": "23929013-6b28-468a-aa54-6b87ccf26591",
   "metadata": {},
   "outputs": [],
   "source": [
    "a = np.arange(20)"
   ]
  },
  {
   "cell_type": "code",
   "execution_count": 4,
   "id": "d2a200ae-595c-4bf1-9b60-3bdb430237b3",
   "metadata": {},
   "outputs": [
    {
     "data": {
      "text/plain": [
       "array([0, 1, 2, 3])"
      ]
     },
     "execution_count": 4,
     "metadata": {},
     "output_type": "execute_result"
    }
   ],
   "source": [
    "a[:4]"
   ]
  },
  {
   "cell_type": "code",
   "execution_count": 5,
   "id": "033856b2-b4fc-472a-b9dc-fcb50b5e7a55",
   "metadata": {},
   "outputs": [
    {
     "data": {
      "text/plain": [
       "np.int64(5)"
      ]
     },
     "execution_count": 5,
     "metadata": {},
     "output_type": "execute_result"
    }
   ],
   "source": [
    "a[5]"
   ]
  },
  {
   "cell_type": "code",
   "execution_count": 7,
   "id": "d723b75e-32df-4c87-b106-511b852ac8db",
   "metadata": {},
   "outputs": [
    {
     "data": {
      "text/plain": [
       "array([2, 4, 6, 8])"
      ]
     },
     "execution_count": 7,
     "metadata": {},
     "output_type": "execute_result"
    }
   ],
   "source": [
    "s = slice(2,9,2)\n",
    "a[s]"
   ]
  },
  {
   "cell_type": "code",
   "execution_count": 8,
   "id": "c0f0f809-6a6b-4f61-836d-f0d0e7085f43",
   "metadata": {},
   "outputs": [
    {
     "data": {
      "text/plain": [
       "array([ 5, 10, 15])"
      ]
     },
     "execution_count": 8,
     "metadata": {},
     "output_type": "execute_result"
    }
   ],
   "source": [
    "s = slice(5,20,5)\n",
    "a[s]"
   ]
  },
  {
   "cell_type": "markdown",
   "id": "a36090e9-a98a-48c4-aa1d-9143430cadf1",
   "metadata": {},
   "source": [
    "Iterating Over Arrays"
   ]
  },
  {
   "cell_type": "code",
   "execution_count": 11,
   "id": "ed3e0c55-e938-4a48-b1d6-d71084423587",
   "metadata": {},
   "outputs": [
    {
     "data": {
      "text/plain": [
       "array([[ 0,  5, 10],\n",
       "       [15, 20, 25],\n",
       "       [30, 35, 40]])"
      ]
     },
     "execution_count": 11,
     "metadata": {},
     "output_type": "execute_result"
    }
   ],
   "source": [
    "a = np.arange(0,45,5)\n",
    "a = a.reshape(3,3)\n",
    "a"
   ]
  },
  {
   "cell_type": "code",
   "execution_count": 12,
   "id": "06e265ed-c3ec-485b-83f5-9e699df56e2a",
   "metadata": {},
   "outputs": [
    {
     "name": "stdout",
     "output_type": "stream",
     "text": [
      "0\n",
      "5\n",
      "10\n",
      "15\n",
      "20\n",
      "25\n",
      "30\n",
      "35\n",
      "40\n"
     ]
    }
   ],
   "source": [
    "for x in np.nditer(a):\n",
    "    print(x)"
   ]
  },
  {
   "cell_type": "markdown",
   "id": "7738d077-38ca-44ee-92aa-33bca88e5ecc",
   "metadata": {},
   "source": [
    "# Iteration Order (c-style & f-style)"
   ]
  },
  {
   "cell_type": "code",
   "execution_count": 13,
   "id": "b3406d7f-9e05-444d-9c60-e63fdb2f699a",
   "metadata": {},
   "outputs": [
    {
     "name": "stdout",
     "output_type": "stream",
     "text": [
      "[[ 0  5 10]\n",
      " [15 20 25]\n",
      " [30 35 40]]\n",
      "0\n",
      "5\n",
      "10\n",
      "15\n",
      "20\n",
      "25\n",
      "30\n",
      "35\n",
      "40\n",
      "0\n",
      "15\n",
      "30\n",
      "5\n",
      "20\n",
      "35\n",
      "10\n",
      "25\n",
      "40\n"
     ]
    }
   ],
   "source": [
    "print(a)\n",
    "for x in np.nditer(a,order=\"C\"):\n",
    "    print(x)\n",
    "\n",
    "for x in np.nditer(a,order=\"F\"):\n",
    "    print(x)"
   ]
  },
  {
   "cell_type": "markdown",
   "id": "4ff9e961-4eda-4a4e-8c02-21c71959db5a",
   "metadata": {},
   "source": [
    "# Joining Arrays"
   ]
  },
  {
   "cell_type": "code",
   "execution_count": 18,
   "id": "acf522fb-ccd5-432b-a537-ea40fa3999de",
   "metadata": {},
   "outputs": [
    {
     "name": "stdout",
     "output_type": "stream",
     "text": [
      "First array\n",
      "[[1 2]\n",
      " [3 4]]\n",
      "Second array\n",
      "[[5 6]\n",
      " [7 8]]\n",
      "\n",
      "\n",
      "Joining the two arrays along axis : 0\n",
      "[[1 2]\n",
      " [3 4]\n",
      " [5 6]\n",
      " [7 8]]\n",
      "\n",
      "\n",
      "Joining the two arrays along axis : 0\n",
      "[[1 2 5 6]\n",
      " [3 4 7 8]]\n"
     ]
    }
   ],
   "source": [
    "a = np.array([[1,2],[3,4]])\n",
    "print('First array')\n",
    "print(a)\n",
    "b = np.array([[5,6],[7,8]])\n",
    "print('Second array')\n",
    "print(b)\n",
    "\n",
    "print('\\n')\n",
    "\n",
    "print('Joining the two arrays along axis : 0')\n",
    "print(np.concatenate((a,b)))\n",
    "\n",
    "print('\\n')\n",
    "\n",
    "print('Joining the two arrays along axis : 0')\n",
    "print(np.concatenate((a,b),axis=1))"
   ]
  },
  {
   "cell_type": "markdown",
   "id": "32e1238b-00d6-45fc-a322-1d49e92756aa",
   "metadata": {},
   "source": [
    "# Splitting Arrays"
   ]
  },
  {
   "cell_type": "code",
   "execution_count": 19,
   "id": "dc0be8cf-04ee-4d10-a984-fc4567ae7fc0",
   "metadata": {},
   "outputs": [
    {
     "name": "stdout",
     "output_type": "stream",
     "text": [
      "[0 1 2 3 4 5 6 7 8]\n"
     ]
    },
    {
     "data": {
      "text/plain": [
       "[array([0, 1, 2]), array([3, 4, 5]), array([6, 7, 8])]"
      ]
     },
     "execution_count": 19,
     "metadata": {},
     "output_type": "execute_result"
    }
   ],
   "source": [
    "a = np.arange(9)\n",
    "print(a)\n",
    "np.split(a,3)"
   ]
  },
  {
   "cell_type": "code",
   "execution_count": 21,
   "id": "663c3bd8-2fcf-4699-8b8e-594abe971755",
   "metadata": {},
   "outputs": [
    {
     "data": {
      "text/plain": [
       "[array([0, 1, 2, 3]), array([4]), array([5, 6, 7, 8])]"
      ]
     },
     "execution_count": 21,
     "metadata": {},
     "output_type": "execute_result"
    }
   ],
   "source": [
    "np.split(a,[4,5])"
   ]
  },
  {
   "cell_type": "code",
   "execution_count": 22,
   "id": "1ddf1466-042c-44b8-9b92-b126181b488d",
   "metadata": {},
   "outputs": [
    {
     "data": {
      "text/plain": [
       "[array([0, 1, 2, 3]), array([4, 5, 6]), array([7, 8])]"
      ]
     },
     "execution_count": 22,
     "metadata": {},
     "output_type": "execute_result"
    }
   ],
   "source": [
    "np.split(a,[4,7])"
   ]
  },
  {
   "cell_type": "code",
   "execution_count": 26,
   "id": "62c686ec-6d5f-49d1-9db9-9473608b8d52",
   "metadata": {},
   "outputs": [
    {
     "name": "stdout",
     "output_type": "stream",
     "text": [
      "[[1 2 3]\n",
      " [4 5 6]]\n",
      "(2, 3)\n",
      "\n",
      "\n",
      "[[1 2]\n",
      " [3 4]\n",
      " [5 6]]\n",
      "(3, 2)\n",
      "\n",
      " [[1 2 3]\n",
      " [4 5 6]\n",
      " [1 2 3]]\n",
      "(3, 3)\n"
     ]
    }
   ],
   "source": [
    "a = np.array([[1,2,3],[4,5,6]])\n",
    "print(a)\n",
    "print(a.shape)\n",
    "print('\\n')\n",
    "\n",
    "b = np.resize(a,(3,2))\n",
    "print(b)\n",
    "print(b.shape)\n",
    "\n",
    "b = np.resize(a,(3,3))\n",
    "print('\\n',b)\n",
    "print(b.shape)"
   ]
  },
  {
   "cell_type": "markdown",
   "id": "e912d563-01da-4bbe-abc6-70e3ed4009c8",
   "metadata": {},
   "source": [
    "# Numpy Histogram Using matplotlib"
   ]
  },
  {
   "cell_type": "code",
   "execution_count": 30,
   "id": "7e1f3953-29aa-43ca-b76f-58fd3bfd6eab",
   "metadata": {},
   "outputs": [
    {
     "data": {
      "image/png": "[encoded data removed]",
      "text/plain": [
       "<Figure size 640x480 with 1 Axes>"
      ]
     },
     "metadata": {},
     "output_type": "display_data"
    }
   ],
   "source": [
    "from matplotlib import pyplot as plt\n",
    "a = np.array([20,87,59,36,27,84,23,43,12,65,87,98])\n",
    "plt.hist(a,bins = [0,20,40,60,80,100])\n",
    "plt.title(\"Histogram\")\n",
    "plt.show()"
   ]
  },
  {
   "cell_type": "code",
   "execution_count": 32,
   "id": "895c7aaa-6941-4ca5-9ac4-f0c172d95b25",
   "metadata": {},
   "outputs": [
    {
     "data": {
      "image/png": "[encoded data removed]",
      "text/plain": [
       "<Figure size 640x480 with 1 Axes>"
      ]
     },
     "metadata": {},
     "output_type": "display_data"
    }
   ],
   "source": [
    "plt.hist(a, bins = [0,10,20,30,40,50,60,70,80,90,100])\n",
    "plt.title(\"Histogram 2\")\n",
    "plt.show()"
   ]
  },
  {
   "cell_type": "markdown",
   "id": "3b949097-a19d-4de6-b745-ed416547d3e0",
   "metadata": {},
   "source": [
    "# Other Useful Functions In Numpy"
   ]
  },
  {
   "cell_type": "code",
   "execution_count": 33,
   "id": "d123c823-e8a7-416e-a5c4-c5d8c8e83850",
   "metadata": {},
   "outputs": [
    {
     "name": "stdout",
     "output_type": "stream",
     "text": [
      "[1.         1.22222222 1.44444444 1.66666667 1.88888889 2.11111111\n",
      " 2.33333333 2.55555556 2.77777778 3.        ]\n"
     ]
    }
   ],
   "source": [
    "# linspace function\n",
    "\n",
    "a = np.linspace(1,3,10)\n",
    "print(a)"
   ]
  },
  {
   "cell_type": "code",
   "execution_count": 36,
   "id": "1d320cb3-2471-4525-a9e6-437a6312657b",
   "metadata": {},
   "outputs": [
    {
     "name": "stdout",
     "output_type": "stream",
     "text": [
      "[ 6 15]\n",
      "\n",
      "\n",
      "[5 7 9]\n"
     ]
    }
   ],
   "source": [
    "# sum and axis\n",
    "\n",
    "a = np.array([(1,2,3),(4,5,6)]) # sum of elements in a row\n",
    "print(a.sum(axis = 1))\n",
    "\n",
    "print('\\n')\n",
    "\n",
    "a = np.array([(1,2,3),(4,5,6)]) # sum of elements in a column\n",
    "print(a.sum(axis = 0))"
   ]
  },
  {
   "cell_type": "code",
   "execution_count": 37,
   "id": "1a5073e5-c683-4eac-ad23-a9504f387e24",
   "metadata": {},
   "outputs": [
    {
     "name": "stdout",
     "output_type": "stream",
     "text": [
      "[[1.         1.41421356 1.73205081]\n",
      " [1.73205081 2.         2.23606798]]\n",
      "1.2909944487358056\n"
     ]
    }
   ],
   "source": [
    "a = np.array([(1,2,3),(3,4,5)])\n",
    "print(np.sqrt(a)) # square root\n",
    "print(np.std(a)) # standard deviation"
   ]
  },
  {
   "cell_type": "code",
   "execution_count": 38,
   "id": "c2237c82-f1f6-4061-9ef5-4f9267025c81",
   "metadata": {},
   "outputs": [
    {
     "name": "stdout",
     "output_type": "stream",
     "text": [
      "[1 2 3 3 4 5]\n"
     ]
    }
   ],
   "source": [
    "# ravel function\n",
    "\n",
    "import numpy as np\n",
    "x = np.array([(1,2,3),(3,4,5)])\n",
    "print(x.ravel())"
   ]
  },
  {
   "cell_type": "code",
   "execution_count": 39,
   "id": "443bebe3-609e-42ea-9005-098b5bb3ce2f",
   "metadata": {},
   "outputs": [
    {
     "name": "stdout",
     "output_type": "stream",
     "text": [
      "[0.         0.30103    0.47712125]\n"
     ]
    }
   ],
   "source": [
    "a = np.array([1,2,3])\n",
    "print(np.log10(a))"
   ]
  },
  {
   "cell_type": "markdown",
   "id": "d358ecb7-3778-4b11-8c16-1f6500d4b393",
   "metadata": {},
   "source": [
    "# Practice examples"
   ]
  },
  {
   "cell_type": "code",
   "execution_count": 46,
   "id": "dd7048a4-ba75-4a10-9c24-b1b438923511",
   "metadata": {},
   "outputs": [
    {
     "name": "stdout",
     "output_type": "stream",
     "text": [
      "[0.  0.1 0.2 0.3 0.4 0.5 0.6 0.7 0.8 0.9 1.  1.1 1.2 1.3 1.4 1.5 1.6 1.7\n",
      " 1.8 1.9 2.  2.1 2.2 2.3 2.4 2.5 2.6 2.7 2.8 2.9 3.  3.1 3.2 3.3 3.4 3.5\n",
      " 3.6 3.7 3.8 3.9 4.  4.1 4.2 4.3 4.4 4.5 4.6 4.7 4.8 4.9 5.  5.1 5.2 5.3\n",
      " 5.4 5.5 5.6 5.7 5.8 5.9 6.  6.1 6.2 6.3 6.4 6.5 6.6 6.7 6.8 6.9 7.  7.1\n",
      " 7.2 7.3 7.4 7.5 7.6 7.7 7.8 7.9 8.  8.1 8.2 8.3 8.4 8.5 8.6 8.7 8.8 8.9\n",
      " 9.  9.1 9.2 9.3 9.4]\n",
      "[ 0.          0.09983342  0.19866933  0.29552021  0.38941834  0.47942554\n",
      "  0.56464247  0.64421769  0.71735609  0.78332691  0.84147098  0.89120736\n",
      "  0.93203909  0.96355819  0.98544973  0.99749499  0.9995736   0.99166481\n",
      "  0.97384763  0.94630009  0.90929743  0.86320937  0.8084964   0.74570521\n",
      "  0.67546318  0.59847214  0.51550137  0.42737988  0.33498815  0.23924933\n",
      "  0.14112001  0.04158066 -0.05837414 -0.15774569 -0.2555411  -0.35078323\n",
      " -0.44252044 -0.52983614 -0.61185789 -0.68776616 -0.7568025  -0.81827711\n",
      " -0.87157577 -0.91616594 -0.95160207 -0.97753012 -0.993691   -0.99992326\n",
      " -0.99616461 -0.98245261 -0.95892427 -0.92581468 -0.88345466 -0.83226744\n",
      " -0.77276449 -0.70554033 -0.63126664 -0.55068554 -0.46460218 -0.37387666\n",
      " -0.2794155  -0.1821625  -0.0830894   0.0168139   0.1165492   0.21511999\n",
      "  0.31154136  0.40484992  0.49411335  0.57843976  0.6569866   0.72896904\n",
      "  0.79366786  0.85043662  0.8987081   0.93799998  0.96791967  0.98816823\n",
      "  0.99854335  0.99894134  0.98935825  0.96988981  0.94073056  0.90217183\n",
      "  0.85459891  0.79848711  0.7343971   0.66296923  0.58491719  0.50102086\n",
      "  0.41211849  0.31909836  0.22288991  0.12445442  0.02477543]\n"
     ]
    },
    {
     "data": {
      "image/png": "[encoded data removed]",
      "text/plain": [
       "<Figure size 640x480 with 1 Axes>"
      ]
     },
     "metadata": {},
     "output_type": "display_data"
    }
   ],
   "source": [
    "# using numpy and matplotlib plot a sine graph\n",
    "\n",
    "import numpy as np\n",
    "import matplotlib.pyplot as plt\n",
    "\n",
    "x = np.arange(0,3*np.pi,0.1)\n",
    "x \n",
    "\n",
    "y = np.sin(x)\n",
    "print(x)\n",
    "print(y) # array of thetas\n",
    "plt.plot(x,y)\n",
    "plt.show()"
   ]
  },
  {
   "cell_type": "code",
   "execution_count": 54,
   "id": "fdcb61fb-2a55-4425-9b41-ea18b32311b2",
   "metadata": {},
   "outputs": [
    {
     "data": {
      "text/plain": [
       "array([[0, 0, 0, 0, 0, 0],\n",
       "       [1, 0, 1, 0, 1, 0],\n",
       "       [0, 0, 0, 0, 0, 0],\n",
       "       [1, 0, 1, 0, 1, 0],\n",
       "       [0, 0, 0, 0, 0, 0],\n",
       "       [1, 0, 1, 0, 1, 0]])"
      ]
     },
     "execution_count": 54,
     "metadata": {},
     "output_type": "execute_result"
    }
   ],
   "source": [
    "# create a 6*6 2D array, and let 1 and 0 be placed alternatively across the diagonals.\n",
    "\n",
    "a = np.zeros((6,6),dtype=int)\n",
    "a[1::2,::2] = 1\n",
    "a"
   ]
  },
  {
   "cell_type": "code",
   "execution_count": 55,
   "id": "6cccc445-7af4-4956-b3ab-ed87c2e83995",
   "metadata": {},
   "outputs": [
    {
     "data": {
      "text/plain": [
       "array([[0, 1, 0, 1, 0, 1],\n",
       "       [1, 0, 1, 0, 1, 0],\n",
       "       [0, 1, 0, 1, 0, 1],\n",
       "       [1, 0, 1, 0, 1, 0],\n",
       "       [0, 1, 0, 1, 0, 1],\n",
       "       [1, 0, 1, 0, 1, 0]])"
      ]
     },
     "execution_count": 55,
     "metadata": {},
     "output_type": "execute_result"
    }
   ],
   "source": [
    "a[::2,1::2] = 1\n",
    "a"
   ]
  },
  {
   "cell_type": "code",
   "execution_count": 69,
   "id": "dcea9095-00b3-4e34-83de-04ab8fda94e0",
   "metadata": {},
   "outputs": [
    {
     "data": {
      "text/plain": [
       "array([[0.75351111, 0.80385052, 0.64188856, 0.25922105, 0.15213653,\n",
       "        0.98867944, 0.85332047, 0.01822773,        nan, 0.04787745],\n",
       "       [0.3890166 , 0.24897661, 0.30173668, 0.44715103, 0.00769373,\n",
       "        0.17997211, 0.6876367 , 0.57041823, 0.64653296, 0.54899053],\n",
       "       [0.69304095, 0.62484055, 0.94277194, 0.63548851, 0.97585952,\n",
       "        0.02053302, 0.00936474, 0.32373495, 0.81456527, 0.70678218],\n",
       "       [0.58122234, 0.09031939, 0.17585335,        nan, 0.87274437,\n",
       "        0.23142847, 0.45744648, 0.02159228, 0.15217803, 0.51225738],\n",
       "       [0.62835344, 0.63706882, 0.43962435, 0.39130238, 0.23648884,\n",
       "        0.36555723, 0.49835932, 0.03164134, 0.28621514, 0.73080671],\n",
       "       [0.62424907, 0.76870184, 0.809765  , 0.85177223, 0.40731859,\n",
       "        0.06773727, 0.10007107, 0.60503699, 0.13609387, 0.97868995],\n",
       "       [0.63123966, 0.40770471, 0.72050844, 0.37695041, 0.48858554,\n",
       "               nan, 0.08857114, 0.29856278, 0.74779069, 0.32679344],\n",
       "       [0.91216911, 0.81682216, 0.0181594 , 0.12177409, 0.5366564 ,\n",
       "        0.92011619, 0.43595337, 0.29359282, 0.36632391, 0.84854831],\n",
       "       [0.72674117, 0.24487451, 0.58842897, 0.60264031, 0.33019303,\n",
       "        0.13888934, 0.91059359, 0.59214998, 0.80819984, 0.32012641],\n",
       "       [0.15636449, 0.89858893, 0.67888269, 0.60851393, 0.78637793,\n",
       "        0.07488797, 0.02421273,        nan,        nan, 0.01355917]])"
      ]
     },
     "execution_count": 69,
     "metadata": {},
     "output_type": "execute_result"
    }
   ],
   "source": [
    "# find the total number and locations of missing values in the array\n",
    "\n",
    "a = np.random.rand(10,10)\n",
    "a[np.random.randint(10,size=5),np.random.randint(10,size=5)] = np.nan\n",
    "a\n",
    "\n"
   ]
  },
  {
   "cell_type": "code",
   "execution_count": 70,
   "id": "543df957-d737-4c50-a23b-b72a2327809f",
   "metadata": {},
   "outputs": [
    {
     "name": "stdout",
     "output_type": "stream",
     "text": [
      "Total number of missing values : \n",
      " 5\n",
      "Indexes of missing values : \n",
      " [[0 8]\n",
      " [3 3]\n",
      " [6 5]\n",
      " [9 7]\n",
      " [9 8]]\n"
     ]
    }
   ],
   "source": [
    "print(\"Total number of missing values : \\n\",np.isnan(a).sum())\n",
    "print(\"Indexes of missing values : \\n\",np.argwhere(np.isnan(a)))\n"
   ]
  },
  {
   "cell_type": "code",
   "execution_count": 71,
   "id": "2f60b28e-9b16-4865-9491-49db1b64079a",
   "metadata": {},
   "outputs": [
    {
     "name": "stdout",
     "output_type": "stream",
     "text": [
      "(array([0, 3, 6, 9, 9]), array([8, 3, 5, 7, 8]))\n"
     ]
    },
    {
     "data": {
      "text/plain": [
       "array([[0.75351111, 0.80385052, 0.64188856, 0.25922105, 0.15213653,\n",
       "        0.98867944, 0.85332047, 0.01822773, 0.        , 0.04787745],\n",
       "       [0.3890166 , 0.24897661, 0.30173668, 0.44715103, 0.00769373,\n",
       "        0.17997211, 0.6876367 , 0.57041823, 0.64653296, 0.54899053],\n",
       "       [0.69304095, 0.62484055, 0.94277194, 0.63548851, 0.97585952,\n",
       "        0.02053302, 0.00936474, 0.32373495, 0.81456527, 0.70678218],\n",
       "       [0.58122234, 0.09031939, 0.17585335, 0.        , 0.87274437,\n",
       "        0.23142847, 0.45744648, 0.02159228, 0.15217803, 0.51225738],\n",
       "       [0.62835344, 0.63706882, 0.43962435, 0.39130238, 0.23648884,\n",
       "        0.36555723, 0.49835932, 0.03164134, 0.28621514, 0.73080671],\n",
       "       [0.62424907, 0.76870184, 0.809765  , 0.85177223, 0.40731859,\n",
       "        0.06773727, 0.10007107, 0.60503699, 0.13609387, 0.97868995],\n",
       "       [0.63123966, 0.40770471, 0.72050844, 0.37695041, 0.48858554,\n",
       "        0.        , 0.08857114, 0.29856278, 0.74779069, 0.32679344],\n",
       "       [0.91216911, 0.81682216, 0.0181594 , 0.12177409, 0.5366564 ,\n",
       "        0.92011619, 0.43595337, 0.29359282, 0.36632391, 0.84854831],\n",
       "       [0.72674117, 0.24487451, 0.58842897, 0.60264031, 0.33019303,\n",
       "        0.13888934, 0.91059359, 0.59214998, 0.80819984, 0.32012641],\n",
       "       [0.15636449, 0.89858893, 0.67888269, 0.60851393, 0.78637793,\n",
       "        0.07488797, 0.02421273, 0.        , 0.        , 0.01355917]])"
      ]
     },
     "execution_count": 71,
     "metadata": {},
     "output_type": "execute_result"
    }
   ],
   "source": [
    "inds = np.where(np.isnan(a))\n",
    "print(inds)\n",
    "a[inds] = 0  \n",
    "a"
   ]
  }
 ],
 "metadata": {
  "kernelspec": {
   "display_name": "Python 3 (ipykernel)",
   "language": "python",
   "name": "python3"
  },
  "language_info": {
   "codemirror_mode": {
    "name": "ipython",
    "version": 3
   },
   "file_extension": ".py",
   "mimetype": "text/x-python",
   "name": "python",
   "nbconvert_exporter": "python",
   "pygments_lexer": "ipython3",
   "version": "3.12.2"
  }
 },
 "nbformat": 4,
 "nbformat_minor": 5
}
